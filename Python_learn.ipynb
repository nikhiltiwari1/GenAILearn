{
  "nbformat": 4,
  "nbformat_minor": 0,
  "metadata": {
    "colab": {
      "provenance": [],
      "authorship_tag": "ABX9TyPTaU3pA+yjlARRizwTbDjl",
      "include_colab_link": true
    },
    "kernelspec": {
      "name": "python3",
      "display_name": "Python 3"
    },
    "language_info": {
      "name": "python"
    }
  },
  "cells": [
    {
      "cell_type": "markdown",
      "metadata": {
        "id": "view-in-github",
        "colab_type": "text"
      },
      "source": [
        "<a href=\"https://colab.research.google.com/github/nikhiltiwari1/GenAILearn/blob/main/Python_learn.ipynb\" target=\"_parent\"><img src=\"https://colab.research.google.com/assets/colab-badge.svg\" alt=\"Open In Colab\"/></a>"
      ]
    },
    {
      "cell_type": "markdown",
      "source": [
        "**Python Crash Course**"
      ],
      "metadata": {
        "id": "eM-yxOhZ8b6P"
      }
    },
    {
      "cell_type": "code",
      "execution_count": 2,
      "metadata": {
        "id": "qjHzp8MV7o8g"
      },
      "outputs": [],
      "source": [
        "# Function\n",
        "def my_func(i):\n",
        "  if i%2 == 0:\n",
        "    return i**3\n",
        "  else:\n",
        "    return i**2"
      ]
    },
    {
      "cell_type": "code",
      "source": [
        "print(my_func(5))"
      ],
      "metadata": {
        "id": "slxDCh4DAlcq",
        "outputId": "31709cb2-d614-44ed-95be-8867552ba28a",
        "colab": {
          "base_uri": "https://localhost:8080/"
        }
      },
      "execution_count": 9,
      "outputs": [
        {
          "output_type": "stream",
          "name": "stdout",
          "text": [
            "25\n"
          ]
        }
      ]
    },
    {
      "cell_type": "code",
      "source": [
        "# Function\n",
        "def my_func(i):\n",
        "  if i%2 == 0:\n",
        "    return i**3\n",
        "  else:\n",
        "    pass     # or return None\n",
        "\n",
        "for i in num_list:\n",
        "  print(my_func(i))"
      ],
      "metadata": {
        "id": "toittbiTAqHd"
      },
      "execution_count": null,
      "outputs": []
    },
    {
      "cell_type": "code",
      "source": [
        "# Lambda Function - is an anonymous function that it is a function without a\n",
        "# name.\n",
        "\n",
        "transform_x = lambda x: x**3 if(x%2 == 0) else x**2"
      ],
      "metadata": {
        "id": "VEyKDrT4A_lL"
      },
      "execution_count": 5,
      "outputs": []
    },
    {
      "cell_type": "code",
      "source": [
        "print(transform_x(5))"
      ],
      "metadata": {
        "id": "mfrSkHHzBOnm",
        "outputId": "a42dbef5-86f7-4300-d7ac-dc2b9765e562",
        "colab": {
          "base_uri": "https://localhost:8080/"
        }
      },
      "execution_count": 6,
      "outputs": [
        {
          "output_type": "stream",
          "name": "stdout",
          "text": [
            "25\n"
          ]
        }
      ]
    },
    {
      "cell_type": "code",
      "source": [
        "# Map, Filter and Reduce\n",
        "num_list = [1, 2, 3,4, 5]\n",
        "\n",
        "print(list(map(transform_x, num_list)))\n",
        "# type casting to list to view the result\n",
        "# no need for \"for loop\", it works as list comprehension and for loops.\n",
        "# for mapping a function to various elements in one go"
      ],
      "metadata": {
        "id": "nH3DvB_iBVIe",
        "outputId": "8d7a361e-1c66-4c0d-fb42-a1193b7e65e5",
        "colab": {
          "base_uri": "https://localhost:8080/"
        }
      },
      "execution_count": 10,
      "outputs": [
        {
          "output_type": "stream",
          "name": "stdout",
          "text": [
            "[1, 8, 9, 64, 25]\n"
          ]
        }
      ]
    },
    {
      "cell_type": "code",
      "source": [
        "# Filter - requires the function to look for a condition and then only returns\n",
        "# those elements from the collection that satisfy the condition\n",
        "\n",
        "print(\"extecting odd elements using filter:\", end=\"\")\n",
        "print(list(filter(lambda x: x%2 != 0, num_list)))"
      ],
      "metadata": {
        "id": "_gBmT5VTDLWm",
        "outputId": "65497305-e475-4dd9-e599-074235efabfb",
        "colab": {
          "base_uri": "https://localhost:8080/"
        }
      },
      "execution_count": 14,
      "outputs": [
        {
          "output_type": "stream",
          "name": "stdout",
          "text": [
            "extecting odd elements using filter:[1, 3, 5]\n"
          ]
        }
      ]
    },
    {
      "cell_type": "code",
      "source": [
        "# Reduce - is a operation that breaks the entire process into pair-wise\n",
        "# operations and uses the result from each operations,\n",
        "# with the successive elements\n",
        "from functools import reduce\n",
        "\n",
        "# Apply a function of two arguments cumulatively to the items of a sequence\n",
        "# or iterable, from left to right, so as to reduce the iterable to a single\n",
        "# value.  For example, reduce(lambda x, y: x+y, [1, 2, 3, 4, 5]) calculates\n",
        "# ((((1+2)+3)+4)+5).  If initial is present, it is placed before the items\n",
        "# of the iterable in the calculation, and serves as a default when the\n",
        "# iterable is empty.\n",
        "\n",
        "\n",
        "\n",
        "# using reduce get the max no from a list\n",
        "print(\"the maximum element of the list is: \", end = \"\")\n",
        "print(reduce(lambda a, b: a if a > b else b, num_list))"
      ],
      "metadata": {
        "id": "c9RbHnnpEM3z",
        "outputId": "f3793eec-4b57-4a08-e426-67de20b88292",
        "colab": {
          "base_uri": "https://localhost:8080/"
        }
      },
      "execution_count": 17,
      "outputs": [
        {
          "output_type": "stream",
          "name": "stdout",
          "text": [
            "the maximum element of the list is: 5\n"
          ]
        }
      ]
    },
    {
      "cell_type": "code",
      "source": [
        "# design fibonacci Series using lambda func\n",
        "series = lambda n: n if n<=1 else series(n-1) + series(n-2)"
      ],
      "metadata": {
        "id": "IXkUuZOeHxEN"
      },
      "execution_count": 30,
      "outputs": []
    },
    {
      "cell_type": "code",
      "source": [
        "fib_series = lambda n: [series(i) for i in range(n)]"
      ],
      "metadata": {
        "id": "TgvR2RkZIUFP"
      },
      "execution_count": 33,
      "outputs": []
    },
    {
      "cell_type": "code",
      "source": [
        "print(fib_series(10))"
      ],
      "metadata": {
        "id": "FGthtfVSIAAI",
        "outputId": "f97a7c99-36d3-4c35-ff3f-8980516642cb",
        "colab": {
          "base_uri": "https://localhost:8080/"
        }
      },
      "execution_count": 34,
      "outputs": [
        {
          "output_type": "stream",
          "name": "stdout",
          "text": [
            "[0, 1, 1, 2, 3, 5, 8, 13, 21, 34]\n"
          ]
        }
      ]
    },
    {
      "cell_type": "code",
      "source": [
        "# design fibonacci Series using lambda func\n",
        "from functools import reduce\n",
        "\n",
        "fib_func = lambda n: reduce(lambda x, _: x+[x[-1]+x[-2]], range(n-2), [0, 1])"
      ],
      "metadata": {
        "id": "Na7pHKKoFnrD"
      },
      "execution_count": 24,
      "outputs": []
    },
    {
      "cell_type": "code",
      "source": [
        "print(fib_func(10))"
      ],
      "metadata": {
        "id": "oGxwB7qYFyz4",
        "outputId": "bd7b8f88-1b84-4c4b-c8bb-dd374c763394",
        "colab": {
          "base_uri": "https://localhost:8080/"
        }
      },
      "execution_count": 25,
      "outputs": [
        {
          "output_type": "stream",
          "name": "stdout",
          "text": [
            "[0, 1, 1, 2, 3, 5, 8, 13, 21, 34]\n"
          ]
        }
      ]
    },
    {
      "cell_type": "code",
      "source": [
        "# exception handling using try and Except\n",
        "\n",
        "#@title\n",
        "# Case 2: with exception handline\n",
        "import traceback\n",
        "\n",
        "base_number = 10\n",
        "for i in range(5, -1, -1):\n",
        "  try:\n",
        "    print (f\"{base_number}/{i} = {base_number/i}\")\n",
        "  except Exception as e:\n",
        "    print (f\" Encountered exception: {e}\")\n",
        "    print (f\"Error encountered Khen dividing {base_number} by {i}\")\n",
        "    print ( traceback.format_exc ())"
      ],
      "metadata": {
        "id": "-VwioxHPHF7O",
        "outputId": "e12b9ed4-3655-49d0-969e-9569d835c5b4",
        "colab": {
          "base_uri": "https://localhost:8080/"
        }
      },
      "execution_count": 40,
      "outputs": [
        {
          "output_type": "stream",
          "name": "stdout",
          "text": [
            "10/5 = 2.0\n",
            "10/4 = 2.5\n",
            "10/3 = 3.3333333333333335\n",
            "10/2 = 5.0\n",
            "10/1 = 10.0\n",
            " Encountered exception: division by zero\n",
            "Error encountered Khen dividing 10 by 0\n",
            "Traceback (most recent call last):\n",
            "  File \"<ipython-input-40-2b01d7d030cf>\", line 10, in <cell line: 8>\n",
            "    print (f\"{base_number}/{i} = {base_number/i}\")\n",
            "ZeroDivisionError: division by zero\n",
            "\n"
          ]
        }
      ]
    },
    {
      "cell_type": "code",
      "source": [
        "# Class and objects\n",
        "\n",
        "# 2. Python program to build flashcard of fruit colors using class.\n",
        "# Approach:\n",
        "# Create a class named flashcard.\n",
        "# Initialize dictionary fruits using init() method. {\"banana\":\"yellow\", \"orange\": \"orange\", \"apple\":\"red\"}\n",
        "# Now randomly choose a pair from fruits using choice() method and store the key in variable fruit and value in variable color.\n",
        "# Now prompt the user to answer the color of the randomly chosen fruit.\n",
        "# If correct print correct else print wrong.\n"
      ],
      "metadata": {
        "id": "d9Cxeuh_LE5j"
      },
      "execution_count": null,
      "outputs": []
    },
    {
      "cell_type": "code",
      "source": [],
      "metadata": {
        "id": "mBiviXZNQIb6"
      },
      "execution_count": null,
      "outputs": []
    },
    {
      "cell_type": "code",
      "source": [
        "import random\n",
        "\n",
        "class flashcard:\n",
        "    def __init__(self):\n",
        "\n",
        "        self.fruits={'banana':'yellow',\n",
        "                     'orange':'orange',\n",
        "                     'apple':'red'}\n",
        "\n",
        "    def quiz(self):\n",
        "        while (True):\n",
        "\n",
        "            fruit, color = random.choice(list(self.fruits.items()))\n",
        "\n",
        "            print(\"What is the color of {}\".format(fruit))\n",
        "            user_answer = input()\n",
        "\n",
        "            if(user_answer.lower() == color):\n",
        "                print(\"Correct answer\")\n",
        "            else:\n",
        "                print(\"Wrong answer\")\n",
        "\n",
        "            option = int(input(\"enter 0 , if you want to play again : \"))\n",
        "            if (option):\n",
        "                break\n",
        "\n",
        "print(\"welcome to fruit quiz \")\n",
        "fc=flashcard()\n",
        "fc.quiz()"
      ],
      "metadata": {
        "id": "Yp8aceDYO---",
        "outputId": "95c2fa54-7b43-4866-d12e-0eb07f0d7872",
        "colab": {
          "base_uri": "https://localhost:8080/",
          "height": 529
        }
      },
      "execution_count": 48,
      "outputs": [
        {
          "output_type": "stream",
          "name": "stdout",
          "text": [
            "welcome to fruit quiz \n",
            "What is the color of orange\n",
            "orange\n",
            "Correct answer\n",
            "enter 0 , if you want to play again : 0\n",
            "What is the color of banana\n",
            "yellow\n",
            "Correct answer\n",
            "enter 0 , if you want to play again : 0\n",
            "What is the color of orange\n",
            "1\n",
            "Wrong answer\n"
          ]
        },
        {
          "output_type": "error",
          "ename": "KeyboardInterrupt",
          "evalue": "Interrupted by user",
          "traceback": [
            "\u001b[0;31m---------------------------------------------------------------------------\u001b[0m",
            "\u001b[0;31mKeyboardInterrupt\u001b[0m                         Traceback (most recent call last)",
            "\u001b[0;32m<ipython-input-48-7e6ee9a9f9ca>\u001b[0m in \u001b[0;36m<cell line: 29>\u001b[0;34m()\u001b[0m\n\u001b[1;32m     27\u001b[0m \u001b[0mprint\u001b[0m\u001b[0;34m(\u001b[0m\u001b[0;34m\"welcome to fruit quiz \"\u001b[0m\u001b[0;34m)\u001b[0m\u001b[0;34m\u001b[0m\u001b[0;34m\u001b[0m\u001b[0m\n\u001b[1;32m     28\u001b[0m \u001b[0mfc\u001b[0m\u001b[0;34m=\u001b[0m\u001b[0mflashcard\u001b[0m\u001b[0;34m(\u001b[0m\u001b[0;34m)\u001b[0m\u001b[0;34m\u001b[0m\u001b[0;34m\u001b[0m\u001b[0m\n\u001b[0;32m---> 29\u001b[0;31m \u001b[0mfc\u001b[0m\u001b[0;34m.\u001b[0m\u001b[0mquiz\u001b[0m\u001b[0;34m(\u001b[0m\u001b[0;34m)\u001b[0m\u001b[0;34m\u001b[0m\u001b[0;34m\u001b[0m\u001b[0m\n\u001b[0m",
            "\u001b[0;32m<ipython-input-48-7e6ee9a9f9ca>\u001b[0m in \u001b[0;36mquiz\u001b[0;34m(self)\u001b[0m\n\u001b[1;32m     21\u001b[0m                 \u001b[0mprint\u001b[0m\u001b[0;34m(\u001b[0m\u001b[0;34m\"Wrong answer\"\u001b[0m\u001b[0;34m)\u001b[0m\u001b[0;34m\u001b[0m\u001b[0;34m\u001b[0m\u001b[0m\n\u001b[1;32m     22\u001b[0m \u001b[0;34m\u001b[0m\u001b[0m\n\u001b[0;32m---> 23\u001b[0;31m             \u001b[0moption\u001b[0m \u001b[0;34m=\u001b[0m \u001b[0mint\u001b[0m\u001b[0;34m(\u001b[0m\u001b[0minput\u001b[0m\u001b[0;34m(\u001b[0m\u001b[0;34m\"enter 0 , if you want to play again : \"\u001b[0m\u001b[0;34m)\u001b[0m\u001b[0;34m)\u001b[0m\u001b[0;34m\u001b[0m\u001b[0;34m\u001b[0m\u001b[0m\n\u001b[0m\u001b[1;32m     24\u001b[0m             \u001b[0;32mif\u001b[0m \u001b[0;34m(\u001b[0m\u001b[0moption\u001b[0m\u001b[0;34m)\u001b[0m\u001b[0;34m:\u001b[0m\u001b[0;34m\u001b[0m\u001b[0;34m\u001b[0m\u001b[0m\n\u001b[1;32m     25\u001b[0m                 \u001b[0;32mbreak\u001b[0m\u001b[0;34m\u001b[0m\u001b[0;34m\u001b[0m\u001b[0m\n",
            "\u001b[0;32m/usr/local/lib/python3.10/dist-packages/ipykernel/kernelbase.py\u001b[0m in \u001b[0;36mraw_input\u001b[0;34m(self, prompt)\u001b[0m\n\u001b[1;32m    849\u001b[0m                 \u001b[0;34m\"raw_input was called, but this frontend does not support input requests.\"\u001b[0m\u001b[0;34m\u001b[0m\u001b[0;34m\u001b[0m\u001b[0m\n\u001b[1;32m    850\u001b[0m             )\n\u001b[0;32m--> 851\u001b[0;31m         return self._input_request(str(prompt),\n\u001b[0m\u001b[1;32m    852\u001b[0m             \u001b[0mself\u001b[0m\u001b[0;34m.\u001b[0m\u001b[0m_parent_ident\u001b[0m\u001b[0;34m,\u001b[0m\u001b[0;34m\u001b[0m\u001b[0;34m\u001b[0m\u001b[0m\n\u001b[1;32m    853\u001b[0m             \u001b[0mself\u001b[0m\u001b[0;34m.\u001b[0m\u001b[0m_parent_header\u001b[0m\u001b[0;34m,\u001b[0m\u001b[0;34m\u001b[0m\u001b[0;34m\u001b[0m\u001b[0m\n",
            "\u001b[0;32m/usr/local/lib/python3.10/dist-packages/ipykernel/kernelbase.py\u001b[0m in \u001b[0;36m_input_request\u001b[0;34m(self, prompt, ident, parent, password)\u001b[0m\n\u001b[1;32m    893\u001b[0m             \u001b[0;32mexcept\u001b[0m \u001b[0mKeyboardInterrupt\u001b[0m\u001b[0;34m:\u001b[0m\u001b[0;34m\u001b[0m\u001b[0;34m\u001b[0m\u001b[0m\n\u001b[1;32m    894\u001b[0m                 \u001b[0;31m# re-raise KeyboardInterrupt, to truncate traceback\u001b[0m\u001b[0;34m\u001b[0m\u001b[0;34m\u001b[0m\u001b[0m\n\u001b[0;32m--> 895\u001b[0;31m                 \u001b[0;32mraise\u001b[0m \u001b[0mKeyboardInterrupt\u001b[0m\u001b[0;34m(\u001b[0m\u001b[0;34m\"Interrupted by user\"\u001b[0m\u001b[0;34m)\u001b[0m \u001b[0;32mfrom\u001b[0m \u001b[0;32mNone\u001b[0m\u001b[0;34m\u001b[0m\u001b[0;34m\u001b[0m\u001b[0m\n\u001b[0m\u001b[1;32m    896\u001b[0m             \u001b[0;32mexcept\u001b[0m \u001b[0mException\u001b[0m \u001b[0;32mas\u001b[0m \u001b[0me\u001b[0m\u001b[0;34m:\u001b[0m\u001b[0;34m\u001b[0m\u001b[0;34m\u001b[0m\u001b[0m\n\u001b[1;32m    897\u001b[0m                 \u001b[0mself\u001b[0m\u001b[0;34m.\u001b[0m\u001b[0mlog\u001b[0m\u001b[0;34m.\u001b[0m\u001b[0mwarning\u001b[0m\u001b[0;34m(\u001b[0m\u001b[0;34m\"Invalid Message:\"\u001b[0m\u001b[0;34m,\u001b[0m \u001b[0mexc_info\u001b[0m\u001b[0;34m=\u001b[0m\u001b[0;32mTrue\u001b[0m\u001b[0;34m)\u001b[0m\u001b[0;34m\u001b[0m\u001b[0;34m\u001b[0m\u001b[0m\n",
            "\u001b[0;31mKeyboardInterrupt\u001b[0m: Interrupted by user"
          ]
        }
      ]
    },
    {
      "cell_type": "code",
      "source": [],
      "metadata": {
        "id": "Jvc6NGbELagC"
      },
      "execution_count": null,
      "outputs": []
    },
    {
      "cell_type": "code",
      "source": [],
      "metadata": {
        "id": "x2C7mMLKLaVk"
      },
      "execution_count": null,
      "outputs": []
    }
  ]
}